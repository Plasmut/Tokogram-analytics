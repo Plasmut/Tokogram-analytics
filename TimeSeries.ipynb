{
 "cells": [
  {
   "cell_type": "code",
   "execution_count": 1,
   "metadata": {},
   "outputs": [
    {
     "name": "stderr",
     "output_type": "stream",
     "text": [
      "c:\\Users\\latip\\Desktop\\Курс\\3. Проектная работа\\Проба\\Сайт\\env\\lib\\site-packages\\gluonts\\json.py:101: UserWarning: Using `json`-module for json-handling. Consider installing one of `orjson`, `ujson` to speed up serialization and deserialization.\n",
      "  warnings.warn(\n"
     ]
    }
   ],
   "source": [
    "import sys\n",
    "sys.path.append(\"lag-llama\")\n",
    "import pandas as pd\n",
    "import numpy as np\n",
    "import torch\n",
    "from sklearn.preprocessing import MinMaxScaler\n",
    "from torch.utils.data import Dataset\n",
    "from lag_llama.gluon.estimator import LagLlamaEstimator\n",
    "from gluonts.evaluation import make_evaluation_predictions\n",
    "from gluonts.dataset.pandas import PandasDataset\n",
    "import os\n",
    "import plotly.graph_objects as go\n",
    "from gluonts.torch.distributions import StudentTOutput\n",
    "from gluonts.torch.modules.loss import NegativeLogLikelihood"
   ]
  },
  {
   "cell_type": "code",
   "execution_count": 2,
   "metadata": {},
   "outputs": [],
   "source": [
    "torch.serialization.add_safe_globals([StudentTOutput, NegativeLogLikelihood, set])"
   ]
  },
  {
   "cell_type": "code",
   "execution_count": 3,
   "metadata": {},
   "outputs": [],
   "source": [
    "# Загрузка данных из Excel файла\n",
    "def load_single_excel_data(file_path):\n",
    "    df = pd.read_excel(file_path, header=0)\n",
    "    current_values = df.iloc[:, 1].values.astype(float)  # Берем только второй столбец\n",
    "    return current_values\n"
   ]
  },
  {
   "cell_type": "code",
   "execution_count": 4,
   "metadata": {},
   "outputs": [],
   "source": [
    "# Подготовка датасета\n",
    "data = load_single_excel_data('data.xlsx')\n",
    "scaler = MinMaxScaler()\n",
    "data = data.reshape(-1, 1)  # Изменяем форму для нормализации\n",
    "data = scaler.fit_transform(data).flatten().astype(np.float32)  # Приведение к типу float32\n",
    "df = pd.DataFrame({\n",
    "    \"item_id\": [\"series_1\"] * len(data),  # Добавляем столбец item_id\n",
    "    \"target\": data\n",
    "})\n",
    "dataset = PandasDataset.from_long_dataframe(df, target=\"target\", item_id=\"item_id\")"
   ]
  },
  {
   "cell_type": "code",
   "execution_count": 5,
   "metadata": {},
   "outputs": [],
   "source": [
    "df = pd.DataFrame({\n",
    "    \"item_id\": [\"series_1\"] * len(data),  # Добавляем столбец item_id\n",
    "    \"target\": data\n",
    "})"
   ]
  },
  {
   "cell_type": "code",
   "execution_count": 6,
   "metadata": {},
   "outputs": [],
   "source": [
    "dataset = PandasDataset.from_long_dataframe(df, target=\"target\", item_id=\"item_id\")"
   ]
  },
  {
   "cell_type": "code",
   "execution_count": 7,
   "metadata": {},
   "outputs": [],
   "source": [
    "import os"
   ]
  },
  {
   "cell_type": "code",
   "execution_count": 8,
   "metadata": {},
   "outputs": [],
   "source": [
    "# Определение функции предсказания с использованием Lag-Llama\n",
    "def get_lag_llama_predictions(dataset, prediction_length, device, context_length=32, use_rope_scaling=False, num_samples=100):\n",
    "    # Определяем путь к файлу lag-llama.ckpt\n",
    "    ckpt_path = os.path.join(\"lag-llama\", \"lag-llama.ckpt\")\n",
    "\n",
    "    # Загружаем модель с использованием weights_only=True\n",
    "    ckpt = torch.load(ckpt_path, map_location=device, weights_only=True)\n",
    "    estimator_args = ckpt[\"hyper_parameters\"][\"model_kwargs\"]\n",
    "\n",
    "    rope_scaling_arguments = {\n",
    "        \"type\": \"linear\",\n",
    "        \"factor\": max(1.0, (context_length + prediction_length) / estimator_args[\"context_length\"]),\n",
    "    }\n",
    "\n",
    "    estimator = LagLlamaEstimator(\n",
    "        ckpt_path=ckpt_path,\n",
    "        prediction_length=prediction_length,\n",
    "        context_length=context_length,\n",
    "        input_size=estimator_args[\"input_size\"],\n",
    "        n_layer=estimator_args[\"n_layer\"],\n",
    "        n_embd_per_head=estimator_args[\"n_embd_per_head\"],\n",
    "        n_head=estimator_args[\"n_head\"],\n",
    "        scaling=estimator_args[\"scaling\"],\n",
    "        time_feat=estimator_args[\"time_feat\"],\n",
    "        rope_scaling=rope_scaling_arguments if use_rope_scaling else None,\n",
    "        batch_size=1,\n",
    "        num_parallel_samples=num_samples,\n",
    "        device=device,\n",
    "    )\n",
    "\n",
    "    lightning_module = estimator.create_lightning_module()\n",
    "    transformation = estimator.create_transformation()\n",
    "    predictor = estimator.create_predictor(transformation, lightning_module)\n",
    "\n",
    "    forecast_it, ts_it = make_evaluation_predictions(\n",
    "        dataset=dataset,\n",
    "        predictor=predictor,\n",
    "        num_samples=num_samples\n",
    "    )\n",
    "    forecasts = list(forecast_it)\n",
    "    tss = list(ts_it)\n",
    "\n",
    "    return forecasts, tss"
   ]
  },
  {
   "cell_type": "code",
   "execution_count": 9,
   "metadata": {},
   "outputs": [],
   "source": [
    "# Настройки для предсказания\n",
    "prediction_length = 24  # Длина прогноза\n",
    "num_samples = 100  # Количество сэмплов для каждого временного шага\n",
    "device = torch.device(\"cuda\" if torch.cuda.is_available() else \"cpu\")  # Используем GPU, если доступен\n"
   ]
  },
  {
   "cell_type": "code",
   "execution_count": 10,
   "metadata": {},
   "outputs": [
    {
     "name": "stderr",
     "output_type": "stream",
     "text": [
      "c:\\Users\\latip\\Desktop\\Курс\\3. Проектная работа\\Проба\\Сайт\\env\\lib\\site-packages\\lightning\\fabric\\utilities\\cloud_io.py:56: You are using `torch.load` with `weights_only=False` (the current default value), which uses the default pickle module implicitly. It is possible to construct malicious pickle data which will execute arbitrary code during unpickling (See https://github.com/pytorch/pytorch/blob/main/SECURITY.md#untrusted-models for more details). In a future release, the default value for `weights_only` will be flipped to `True`. This limits the functions that could be executed during unpickling. Arbitrary objects will no longer be allowed to be loaded via this mode unless they are explicitly allowlisted by the user via `torch.serialization.add_safe_globals`. We recommend you start setting `weights_only=True` for any use case where you don't have full control of the loaded file. Please open an issue on GitHub for any issues related to this experimental feature.\n",
      "c:\\Users\\latip\\Desktop\\Курс\\3. Проектная работа\\Проба\\Сайт\\lag-llama\\lag_llama\\model\\module.py:347: UserWarning: 1Torch was not compiled with flash attention. (Triggered internally at C:\\actions-runner\\_work\\pytorch\\pytorch\\builder\\windows\\pytorch\\aten\\src\\ATen\\native\\transformers\\cuda\\sdp_utils.cpp:555.)\n",
      "  y = F.scaled_dot_product_attention(\n"
     ]
    }
   ],
   "source": [
    "# Получение предсказаний\n",
    "forecasts, tss = get_lag_llama_predictions(dataset, prediction_length, device, num_samples=num_samples)\n"
   ]
  },
  {
   "cell_type": "code",
   "execution_count": 11,
   "metadata": {},
   "outputs": [
    {
     "data": {
      "application/vnd.plotly.v1+json": {
       "config": {
        "plotlyServerURL": "https://plot.ly"
       },
       "data": [
        {
         "line": {
          "color": "blue"
         },
         "mode": "lines",
         "name": "Истинные значения",
         "type": "scatter",
         "x": [
          0,
          1,
          2,
          3,
          4,
          5,
          6,
          7,
          8,
          9,
          10,
          11,
          12,
          13,
          14,
          15,
          16,
          17,
          18,
          19,
          20,
          21,
          22,
          23,
          24,
          25,
          26,
          27,
          28,
          29,
          30,
          31,
          32,
          33,
          34,
          35,
          36,
          37,
          38,
          39,
          40,
          41,
          42,
          43,
          44,
          45,
          46,
          47,
          48,
          49,
          50,
          51,
          52,
          53,
          54,
          55,
          56,
          57,
          58,
          59,
          60,
          61,
          62,
          63,
          64,
          65,
          66,
          67,
          68,
          69,
          70,
          71,
          72,
          73,
          74,
          75,
          76,
          77,
          78,
          79,
          80,
          81,
          82,
          83,
          84,
          85,
          86,
          87,
          88,
          89,
          90,
          91,
          92,
          93,
          94,
          95,
          96,
          97,
          98,
          99,
          100,
          101,
          102,
          103,
          104,
          105,
          106,
          107,
          108,
          109,
          110,
          111,
          112,
          113,
          114,
          115,
          116,
          117,
          118,
          119,
          120,
          121,
          122,
          123,
          124,
          125,
          126,
          127,
          128,
          129,
          130,
          131,
          132,
          133,
          134,
          135,
          136,
          137,
          138,
          139,
          140,
          141,
          142,
          143,
          144,
          145,
          146,
          147,
          148,
          149,
          150,
          151,
          152,
          153,
          154,
          155,
          156,
          157,
          158,
          159,
          160,
          161,
          162,
          163,
          164,
          165,
          166,
          167,
          168,
          169,
          170,
          171,
          172,
          173,
          174,
          175,
          176,
          177,
          178,
          179,
          180,
          181,
          182,
          183,
          184,
          185,
          186,
          187,
          188,
          189,
          190,
          191,
          192,
          193,
          194,
          195,
          196,
          197,
          198,
          199,
          200,
          201,
          202,
          203,
          204,
          205,
          206,
          207,
          208,
          209,
          210,
          211,
          212,
          213,
          214,
          215,
          216,
          217,
          218,
          219,
          220,
          221,
          222,
          223,
          224,
          225,
          226,
          227,
          228,
          229,
          230,
          231,
          232,
          233,
          234,
          235,
          236,
          237,
          238,
          239,
          240,
          241,
          242,
          243,
          244,
          245,
          246,
          247,
          248,
          249,
          250,
          251,
          252,
          253
         ],
         "y": [
          1,
          0.9074921011924744,
          0.8253644704818726,
          0.7865473628044128,
          0.7573506832122803,
          0.7666357159614563,
          0.7789993286132812,
          0.8036772012710571,
          0.8092231750488281,
          0.7349427342414856,
          0.671120822429657,
          0.6509358882904053,
          0.6199319362640381,
          0.5456514954566956,
          0.47848963737487793,
          0.4398019313812256,
          0.40080469846725464,
          0.36056947708129883,
          0.3206694722175598,
          0.2821102738380432,
          0.2501083314418793,
          0.24546580016613007,
          0.24172082543373108,
          0.24172082543373108,
          0.23676879703998566,
          0.21200866997241974,
          0.1949768215417862,
          0.20885811746120453,
          0.22215701639652252,
          0.23302580416202545,
          0.2445063441991806,
          0.25843390822410583,
          0.2606004476547241,
          0.2157226800918579,
          0.181987002491951,
          0.19281956553459167,
          0.20334261655807495,
          0.21262766420841217,
          0.21603219211101532,
          0.19591458141803741,
          0.17703497409820557,
          0.16310739517211914,
          0.15010832250118256,
          0.14082327485084534,
          0.13618074357509613,
          0.15010832250118256,
          0.16310739517211914,
          0.17239244282245636,
          0.18105849623680115,
          0.18724852800369263,
          0.18632002174854279,
          0.15691736340522766,
          0.13432374596595764,
          0.13896626234054565,
          0.14268028736114502,
          0.14268028736114502,
          0.1445372998714447,
          0.15382234752178192,
          0.16125038266181946,
          0.16125038266181946,
          0.16125038266181946,
          0.16125038266181946,
          0.15939337015151978,
          0.15010832250118256,
          0.14360570907592773,
          0.14823280274868011,
          0.1558547466993332,
          0.1759723573923111,
          0.18919870257377625,
          0.17367185652256012,
          0.16032187640666962,
          0.1556793600320816,
          0.1488703191280365,
          0.1333952397108078,
          0.11915815621614456,
          0.10987310111522675,
          0.10554008185863495,
          0.12101516872644424,
          0.12844321131706238,
          0.10368306934833527,
          0.0857570692896843,
          0.09516759216785431,
          0.10902197659015656,
          0.1380377560853958,
          0.15722686052322388,
          0.13710924983024597,
          0.1182389035820961,
          0.10435760021209717,
          0.09105871617794037,
          0.08018992096185684,
          0.07458990812301636,
          0.09006499499082565,
          0.09656453132629395,
          0.06716187298297882,
          0.04642525687813759,
          0.060352832078933716,
          0.0755184143781662,
          0.0956360250711441,
          0.11080160737037659,
          0.10615908354520798,
          0.10058805346488953,
          0.09130300581455231,
          0.08170844614505768,
          0.07087589055299759,
          0.07025688886642456,
          0.11049211025238037,
          0.13370473682880402,
          0.0888269916176796,
          0.05199628695845604,
          0.04735375940799713,
          0.05447230115532875,
          0.10863509774208069,
          0.14701330661773682,
          0.1222531720995903,
          0.10058805346488953,
          0.09130300581455231,
          0.08263695240020752,
          0.07644692063331604,
          0.0665428638458252,
          0.04178272932767868,
          0.02909315936267376,
          0.06468585878610611,
          0.0909935012459755,
          0.08016093820333481,
          0.0665428638458252,
          0.04178272932767868,
          0.024141132831573486,
          0.034973692148923874,
          0.044568244367837906,
          0.049210771918296814,
          0.05292478948831558,
          0.05292478948831558,
          0.054781801998615265,
          0.06406684964895248,
          0.07458990812301636,
          0.09006499499082565,
          0.1043020710349083,
          0.11358712613582611,
          0.11730114370584488,
          0.09873104095458984,
          0.09965954720973969,
          0.17858248949050903,
          0.2516248822212219,
          0.30114516615867615,
          0.33178582787513733,
          0.2869080901145935,
          0.25871771574020386,
          0.29727688431739807,
          0.3283812999725342,
          0.3283812999725342,
          0.3197152614593506,
          0.27638500928878784,
          0.24048282206058502,
          0.23429279029369354,
          0.22934076189994812,
          0.22934076189994812,
          0.22748374938964844,
          0.21819870173931122,
          0.21169915795326233,
          0.21634168922901154,
          0.2132466733455658,
          0.17920148372650146,
          0.1510368287563324,
          0.14639431238174438,
          0.13463324308395386,
          0.09439802169799805,
          0.06623336672782898,
          0.08635097742080688,
          0.10244506597518921,
          0.10244506597518921,
          0.10059422254562378,
          0.09134002029895782,
          0.08177366107702255,
          0.07090487331151962,
          0.06932838261127472,
          0.10492108017206192,
          0.13618074357509613,
          0.15010832250118256,
          0.15227483212947845,
          0.10739709436893463,
          0.06375735253095627,
          0.02506963722407818,
          0,
          0.029402662068605423,
          0.05973383039236069,
          0.09377901256084442,
          0.12411018460988998,
          0.13958527147769928,
          0.1757969707250595,
          0.29495513439178467,
          0.3949241638183594,
          0.4181368052959442,
          0.42989787459373474,
          0.3958526849746704,
          0.3618074953556061,
          0.32776230573654175,
          0.3073351979255676,
          0.34138038754463196,
          0.3754255771636963,
          0.4094707667827606,
          0.4289693534374237,
          0.39028164744377136,
          0.34540390968322754,
          0.2757660150527954,
          0.2222222238779068,
          0.23305478692054749,
          0.23862580955028534,
          0.22315073013305664,
          0.208913654088974,
          0.19962859153747559,
          0.190962553024292,
          0.1847725212574005,
          0.1711544394493103,
          0.12782420217990875,
          0.09007527679204941,
          0.07465160638093948,
          0.09192821383476257,
          0.24564394354820251,
          0.3667595088481903,
          0.3574744760990143,
          0.35004642605781555,
          0.35004642605781555,
          0.35004642605781555,
          0.35004642605781555,
          0.3413410484790802,
          0.29631319642066956,
          0.2652929723262787,
          0.29030323028564453,
          0.30779537558555603,
          0.29863250255584717,
          0.2852374017238617,
          0.25418370962142944,
          0.22346022725105286,
          0.19405756890773773,
          0.1844630092382431,
          0.25410088896751404,
          0.3088827133178711,
          0.3042401671409607,
          0.2934076189994812,
          0.2578149139881134,
          0.22562673687934875,
          0.20705664157867432,
          0.18633955717086792,
          0.15703457593917847,
          0.13699746131896973,
          0.15562966465950012,
          0.1686784327030182,
          0.15939337015151978,
          0.15289384126663208,
          0.1575363725423813,
          0.16527390480041504,
          0.18539151549339294,
          0.2064376324415207,
          0.2311977744102478
         ]
        },
        {
         "line": {
          "color": "green"
         },
         "mode": "lines",
         "name": "Прогноз",
         "type": "scatter",
         "x": [
          253,
          254,
          255,
          256,
          257,
          258,
          259,
          260,
          261,
          262,
          263,
          264,
          265,
          266,
          267,
          268,
          269,
          270,
          271,
          272,
          273,
          274,
          275,
          276,
          277
         ],
         "y": [
          0.2311977744102478,
          0.28929588198661804,
          0.1985068917274475,
          0.161626398563385,
          0.12934550642967224,
          0.16783945262432098,
          0.15742497146129608,
          0.15222638845443726,
          0.12469804286956787,
          0.19751805067062378,
          0.23943758010864258,
          0.20961640775203705,
          0.09941765666007996,
          0.051776424050331116,
          0.011089444160461426,
          -0.04581516981124878,
          -0.042839616537094116,
          0.08790509402751923,
          0.11769264936447144,
          0.09207210689783096,
          0.009673073887825012,
          -0.09707163274288177,
          -0.13188089430332184,
          -0.15133847296237946,
          -0.21054641902446747
         ]
        }
       ],
       "layout": {
        "showlegend": true,
        "template": {
         "data": {
          "bar": [
           {
            "error_x": {
             "color": "#2a3f5f"
            },
            "error_y": {
             "color": "#2a3f5f"
            },
            "marker": {
             "line": {
              "color": "#E5ECF6",
              "width": 0.5
             },
             "pattern": {
              "fillmode": "overlay",
              "size": 10,
              "solidity": 0.2
             }
            },
            "type": "bar"
           }
          ],
          "barpolar": [
           {
            "marker": {
             "line": {
              "color": "#E5ECF6",
              "width": 0.5
             },
             "pattern": {
              "fillmode": "overlay",
              "size": 10,
              "solidity": 0.2
             }
            },
            "type": "barpolar"
           }
          ],
          "carpet": [
           {
            "aaxis": {
             "endlinecolor": "#2a3f5f",
             "gridcolor": "white",
             "linecolor": "white",
             "minorgridcolor": "white",
             "startlinecolor": "#2a3f5f"
            },
            "baxis": {
             "endlinecolor": "#2a3f5f",
             "gridcolor": "white",
             "linecolor": "white",
             "minorgridcolor": "white",
             "startlinecolor": "#2a3f5f"
            },
            "type": "carpet"
           }
          ],
          "choropleth": [
           {
            "colorbar": {
             "outlinewidth": 0,
             "ticks": ""
            },
            "type": "choropleth"
           }
          ],
          "contour": [
           {
            "colorbar": {
             "outlinewidth": 0,
             "ticks": ""
            },
            "colorscale": [
             [
              0,
              "#0d0887"
             ],
             [
              0.1111111111111111,
              "#46039f"
             ],
             [
              0.2222222222222222,
              "#7201a8"
             ],
             [
              0.3333333333333333,
              "#9c179e"
             ],
             [
              0.4444444444444444,
              "#bd3786"
             ],
             [
              0.5555555555555556,
              "#d8576b"
             ],
             [
              0.6666666666666666,
              "#ed7953"
             ],
             [
              0.7777777777777778,
              "#fb9f3a"
             ],
             [
              0.8888888888888888,
              "#fdca26"
             ],
             [
              1,
              "#f0f921"
             ]
            ],
            "type": "contour"
           }
          ],
          "contourcarpet": [
           {
            "colorbar": {
             "outlinewidth": 0,
             "ticks": ""
            },
            "type": "contourcarpet"
           }
          ],
          "heatmap": [
           {
            "colorbar": {
             "outlinewidth": 0,
             "ticks": ""
            },
            "colorscale": [
             [
              0,
              "#0d0887"
             ],
             [
              0.1111111111111111,
              "#46039f"
             ],
             [
              0.2222222222222222,
              "#7201a8"
             ],
             [
              0.3333333333333333,
              "#9c179e"
             ],
             [
              0.4444444444444444,
              "#bd3786"
             ],
             [
              0.5555555555555556,
              "#d8576b"
             ],
             [
              0.6666666666666666,
              "#ed7953"
             ],
             [
              0.7777777777777778,
              "#fb9f3a"
             ],
             [
              0.8888888888888888,
              "#fdca26"
             ],
             [
              1,
              "#f0f921"
             ]
            ],
            "type": "heatmap"
           }
          ],
          "heatmapgl": [
           {
            "colorbar": {
             "outlinewidth": 0,
             "ticks": ""
            },
            "colorscale": [
             [
              0,
              "#0d0887"
             ],
             [
              0.1111111111111111,
              "#46039f"
             ],
             [
              0.2222222222222222,
              "#7201a8"
             ],
             [
              0.3333333333333333,
              "#9c179e"
             ],
             [
              0.4444444444444444,
              "#bd3786"
             ],
             [
              0.5555555555555556,
              "#d8576b"
             ],
             [
              0.6666666666666666,
              "#ed7953"
             ],
             [
              0.7777777777777778,
              "#fb9f3a"
             ],
             [
              0.8888888888888888,
              "#fdca26"
             ],
             [
              1,
              "#f0f921"
             ]
            ],
            "type": "heatmapgl"
           }
          ],
          "histogram": [
           {
            "marker": {
             "pattern": {
              "fillmode": "overlay",
              "size": 10,
              "solidity": 0.2
             }
            },
            "type": "histogram"
           }
          ],
          "histogram2d": [
           {
            "colorbar": {
             "outlinewidth": 0,
             "ticks": ""
            },
            "colorscale": [
             [
              0,
              "#0d0887"
             ],
             [
              0.1111111111111111,
              "#46039f"
             ],
             [
              0.2222222222222222,
              "#7201a8"
             ],
             [
              0.3333333333333333,
              "#9c179e"
             ],
             [
              0.4444444444444444,
              "#bd3786"
             ],
             [
              0.5555555555555556,
              "#d8576b"
             ],
             [
              0.6666666666666666,
              "#ed7953"
             ],
             [
              0.7777777777777778,
              "#fb9f3a"
             ],
             [
              0.8888888888888888,
              "#fdca26"
             ],
             [
              1,
              "#f0f921"
             ]
            ],
            "type": "histogram2d"
           }
          ],
          "histogram2dcontour": [
           {
            "colorbar": {
             "outlinewidth": 0,
             "ticks": ""
            },
            "colorscale": [
             [
              0,
              "#0d0887"
             ],
             [
              0.1111111111111111,
              "#46039f"
             ],
             [
              0.2222222222222222,
              "#7201a8"
             ],
             [
              0.3333333333333333,
              "#9c179e"
             ],
             [
              0.4444444444444444,
              "#bd3786"
             ],
             [
              0.5555555555555556,
              "#d8576b"
             ],
             [
              0.6666666666666666,
              "#ed7953"
             ],
             [
              0.7777777777777778,
              "#fb9f3a"
             ],
             [
              0.8888888888888888,
              "#fdca26"
             ],
             [
              1,
              "#f0f921"
             ]
            ],
            "type": "histogram2dcontour"
           }
          ],
          "mesh3d": [
           {
            "colorbar": {
             "outlinewidth": 0,
             "ticks": ""
            },
            "type": "mesh3d"
           }
          ],
          "parcoords": [
           {
            "line": {
             "colorbar": {
              "outlinewidth": 0,
              "ticks": ""
             }
            },
            "type": "parcoords"
           }
          ],
          "pie": [
           {
            "automargin": true,
            "type": "pie"
           }
          ],
          "scatter": [
           {
            "fillpattern": {
             "fillmode": "overlay",
             "size": 10,
             "solidity": 0.2
            },
            "type": "scatter"
           }
          ],
          "scatter3d": [
           {
            "line": {
             "colorbar": {
              "outlinewidth": 0,
              "ticks": ""
             }
            },
            "marker": {
             "colorbar": {
              "outlinewidth": 0,
              "ticks": ""
             }
            },
            "type": "scatter3d"
           }
          ],
          "scattercarpet": [
           {
            "marker": {
             "colorbar": {
              "outlinewidth": 0,
              "ticks": ""
             }
            },
            "type": "scattercarpet"
           }
          ],
          "scattergeo": [
           {
            "marker": {
             "colorbar": {
              "outlinewidth": 0,
              "ticks": ""
             }
            },
            "type": "scattergeo"
           }
          ],
          "scattergl": [
           {
            "marker": {
             "colorbar": {
              "outlinewidth": 0,
              "ticks": ""
             }
            },
            "type": "scattergl"
           }
          ],
          "scattermapbox": [
           {
            "marker": {
             "colorbar": {
              "outlinewidth": 0,
              "ticks": ""
             }
            },
            "type": "scattermapbox"
           }
          ],
          "scatterpolar": [
           {
            "marker": {
             "colorbar": {
              "outlinewidth": 0,
              "ticks": ""
             }
            },
            "type": "scatterpolar"
           }
          ],
          "scatterpolargl": [
           {
            "marker": {
             "colorbar": {
              "outlinewidth": 0,
              "ticks": ""
             }
            },
            "type": "scatterpolargl"
           }
          ],
          "scatterternary": [
           {
            "marker": {
             "colorbar": {
              "outlinewidth": 0,
              "ticks": ""
             }
            },
            "type": "scatterternary"
           }
          ],
          "surface": [
           {
            "colorbar": {
             "outlinewidth": 0,
             "ticks": ""
            },
            "colorscale": [
             [
              0,
              "#0d0887"
             ],
             [
              0.1111111111111111,
              "#46039f"
             ],
             [
              0.2222222222222222,
              "#7201a8"
             ],
             [
              0.3333333333333333,
              "#9c179e"
             ],
             [
              0.4444444444444444,
              "#bd3786"
             ],
             [
              0.5555555555555556,
              "#d8576b"
             ],
             [
              0.6666666666666666,
              "#ed7953"
             ],
             [
              0.7777777777777778,
              "#fb9f3a"
             ],
             [
              0.8888888888888888,
              "#fdca26"
             ],
             [
              1,
              "#f0f921"
             ]
            ],
            "type": "surface"
           }
          ],
          "table": [
           {
            "cells": {
             "fill": {
              "color": "#EBF0F8"
             },
             "line": {
              "color": "white"
             }
            },
            "header": {
             "fill": {
              "color": "#C8D4E3"
             },
             "line": {
              "color": "white"
             }
            },
            "type": "table"
           }
          ]
         },
         "layout": {
          "annotationdefaults": {
           "arrowcolor": "#2a3f5f",
           "arrowhead": 0,
           "arrowwidth": 1
          },
          "autotypenumbers": "strict",
          "coloraxis": {
           "colorbar": {
            "outlinewidth": 0,
            "ticks": ""
           }
          },
          "colorscale": {
           "diverging": [
            [
             0,
             "#8e0152"
            ],
            [
             0.1,
             "#c51b7d"
            ],
            [
             0.2,
             "#de77ae"
            ],
            [
             0.3,
             "#f1b6da"
            ],
            [
             0.4,
             "#fde0ef"
            ],
            [
             0.5,
             "#f7f7f7"
            ],
            [
             0.6,
             "#e6f5d0"
            ],
            [
             0.7,
             "#b8e186"
            ],
            [
             0.8,
             "#7fbc41"
            ],
            [
             0.9,
             "#4d9221"
            ],
            [
             1,
             "#276419"
            ]
           ],
           "sequential": [
            [
             0,
             "#0d0887"
            ],
            [
             0.1111111111111111,
             "#46039f"
            ],
            [
             0.2222222222222222,
             "#7201a8"
            ],
            [
             0.3333333333333333,
             "#9c179e"
            ],
            [
             0.4444444444444444,
             "#bd3786"
            ],
            [
             0.5555555555555556,
             "#d8576b"
            ],
            [
             0.6666666666666666,
             "#ed7953"
            ],
            [
             0.7777777777777778,
             "#fb9f3a"
            ],
            [
             0.8888888888888888,
             "#fdca26"
            ],
            [
             1,
             "#f0f921"
            ]
           ],
           "sequentialminus": [
            [
             0,
             "#0d0887"
            ],
            [
             0.1111111111111111,
             "#46039f"
            ],
            [
             0.2222222222222222,
             "#7201a8"
            ],
            [
             0.3333333333333333,
             "#9c179e"
            ],
            [
             0.4444444444444444,
             "#bd3786"
            ],
            [
             0.5555555555555556,
             "#d8576b"
            ],
            [
             0.6666666666666666,
             "#ed7953"
            ],
            [
             0.7777777777777778,
             "#fb9f3a"
            ],
            [
             0.8888888888888888,
             "#fdca26"
            ],
            [
             1,
             "#f0f921"
            ]
           ]
          },
          "colorway": [
           "#636efa",
           "#EF553B",
           "#00cc96",
           "#ab63fa",
           "#FFA15A",
           "#19d3f3",
           "#FF6692",
           "#B6E880",
           "#FF97FF",
           "#FECB52"
          ],
          "font": {
           "color": "#2a3f5f"
          },
          "geo": {
           "bgcolor": "white",
           "lakecolor": "white",
           "landcolor": "#E5ECF6",
           "showlakes": true,
           "showland": true,
           "subunitcolor": "white"
          },
          "hoverlabel": {
           "align": "left"
          },
          "hovermode": "closest",
          "mapbox": {
           "style": "light"
          },
          "paper_bgcolor": "white",
          "plot_bgcolor": "#E5ECF6",
          "polar": {
           "angularaxis": {
            "gridcolor": "white",
            "linecolor": "white",
            "ticks": ""
           },
           "bgcolor": "#E5ECF6",
           "radialaxis": {
            "gridcolor": "white",
            "linecolor": "white",
            "ticks": ""
           }
          },
          "scene": {
           "xaxis": {
            "backgroundcolor": "#E5ECF6",
            "gridcolor": "white",
            "gridwidth": 2,
            "linecolor": "white",
            "showbackground": true,
            "ticks": "",
            "zerolinecolor": "white"
           },
           "yaxis": {
            "backgroundcolor": "#E5ECF6",
            "gridcolor": "white",
            "gridwidth": 2,
            "linecolor": "white",
            "showbackground": true,
            "ticks": "",
            "zerolinecolor": "white"
           },
           "zaxis": {
            "backgroundcolor": "#E5ECF6",
            "gridcolor": "white",
            "gridwidth": 2,
            "linecolor": "white",
            "showbackground": true,
            "ticks": "",
            "zerolinecolor": "white"
           }
          },
          "shapedefaults": {
           "line": {
            "color": "#2a3f5f"
           }
          },
          "ternary": {
           "aaxis": {
            "gridcolor": "white",
            "linecolor": "white",
            "ticks": ""
           },
           "baxis": {
            "gridcolor": "white",
            "linecolor": "white",
            "ticks": ""
           },
           "bgcolor": "#E5ECF6",
           "caxis": {
            "gridcolor": "white",
            "linecolor": "white",
            "ticks": ""
           }
          },
          "title": {
           "x": 0.05
          },
          "xaxis": {
           "automargin": true,
           "gridcolor": "white",
           "linecolor": "white",
           "ticks": "",
           "title": {
            "standoff": 15
           },
           "zerolinecolor": "white",
           "zerolinewidth": 2
          },
          "yaxis": {
           "automargin": true,
           "gridcolor": "white",
           "linecolor": "white",
           "ticks": "",
           "title": {
            "standoff": 15
           },
           "zerolinecolor": "white",
           "zerolinewidth": 2
          }
         }
        },
        "title": {
         "text": "Прогноз временного ряда"
        },
        "xaxis": {
         "title": {
          "text": "Индекс"
         }
        },
        "yaxis": {
         "title": {
          "text": "Значение"
         }
        }
       }
      }
     },
     "metadata": {},
     "output_type": "display_data"
    }
   ],
   "source": [
    "# Визуализация результатов с использованием Plotly\n",
    "# Создаем фигуру\n",
    "fig = go.Figure()\n",
    "\n",
    "# Индекс последней точки оригинального ряда\n",
    "last_index = len(data) - 1\n",
    "\n",
    "# Отображаем истинные значения\n",
    "fig.add_trace(go.Scatter(x=np.arange(last_index + 1), y=data, mode='lines', name='Истинные значения', line=dict(color='blue')))\n",
    "\n",
    "# Создаем массив для предсказанных значений, начиная с последней точки оригинального ряда\n",
    "predicted_values = [data[last_index]] + [forecast.samples[0][i] for forecast in forecasts for i in range(len(forecast.samples[0]))]\n",
    "\n",
    "# Создаем массив для индексов прогноза\n",
    "forecast_index = np.arange(last_index, last_index + prediction_length + 1)\n",
    "\n",
    "# Отображаем прогнозы\n",
    "fig.add_trace(go.Scatter(x=forecast_index, y=predicted_values, mode='lines', name='Прогноз', line=dict(color='green')))\n",
    "\n",
    "# Настройки отображения\n",
    "fig.update_layout(title=\"Прогноз временного ряда\", xaxis_title=\"Индекс\", yaxis_title=\"Значение\", showlegend=True)\n",
    "\n",
    "# Показываем график\n",
    "fig.show()"
   ]
  },
  {
   "cell_type": "code",
   "execution_count": null,
   "metadata": {},
   "outputs": [],
   "source": []
  },
  {
   "cell_type": "code",
   "execution_count": null,
   "metadata": {},
   "outputs": [],
   "source": []
  }
 ],
 "metadata": {
  "kernelspec": {
   "display_name": "env",
   "language": "python",
   "name": "python3"
  },
  "language_info": {
   "codemirror_mode": {
    "name": "ipython",
    "version": 3
   },
   "file_extension": ".py",
   "mimetype": "text/x-python",
   "name": "python",
   "nbconvert_exporter": "python",
   "pygments_lexer": "ipython3",
   "version": "3.10.11"
  }
 },
 "nbformat": 4,
 "nbformat_minor": 2
}
